{
 "cells": [
  {
   "cell_type": "markdown",
   "id": "stone-determination",
   "metadata": {},
   "source": [
    "# Climate Change Risk Dashboard \n",
    "\n",
    "This dashboard is an example of highlighting risks due to climate change. In this case we study the mainland US and explore risk as a function of global heating, over the period of 1860 - 2100, and comparing the climatic future scenarios A1B and E1.\n",
    "\n",
    "A measure of human vulnerability and risk is also synthesized and shown as points over the centres of each state. Vulnerability to the hazard (global heating) is shown by the brightness of the point, and the risk the hazard poses is shown by the size of the point."
   ]
  },
  {
   "cell_type": "code",
   "execution_count": null,
   "id": "first-delhi",
   "metadata": {},
   "outputs": [],
   "source": [
    "import cartopy.crs as ccrs\n",
    "import cartopy.io.shapereader as shpreader\n",
    "\n",
    "import colorcet as cc\n",
    "\n",
    "import geoviews.feature as gf\n",
    "import hvplot.pandas\n",
    "\n",
    "import numpy as np\n",
    "\n",
    "import geopandas as gpd\n",
    "import pandas as pd\n",
    "\n",
    "import panel as pn\n",
    "\n",
    "import param"
   ]
  },
  {
   "cell_type": "code",
   "execution_count": null,
   "id": "alive-owner",
   "metadata": {},
   "outputs": [],
   "source": [
    "pn.extension()"
   ]
  },
  {
   "cell_type": "code",
   "execution_count": null,
   "id": "grand-yeast",
   "metadata": {
    "tags": []
   },
   "outputs": [],
   "source": [
    "# Load US states shapefile data.\n",
    "us_states_name = shpreader.natural_earth(\n",
    "    category=\"cultural\",\n",
    "    name=\"admin_1_states_provinces\")\n",
    "\n",
    "us_states = gpd.read_file(us_states_name)"
   ]
  },
  {
   "cell_type": "code",
   "execution_count": null,
   "id": "rental-meaning",
   "metadata": {},
   "outputs": [],
   "source": [
    "# We only need to keep a few columns of data from the US states geodataframe (gdf).\n",
    "gdf_drop_cols = list(set(us_states.columns) - set([\"name\", 'gn_a1_code', \"geometry\"]))"
   ]
  },
  {
   "cell_type": "code",
   "execution_count": null,
   "id": "competent-maria",
   "metadata": {},
   "outputs": [],
   "source": [
    "# Load pre-processed climate data to drive the temperature element of the dashboard.\n",
    "data = pd.read_csv(\"../../etc/data/preprocessed_data_v2.csv\")"
   ]
  },
  {
   "cell_type": "code",
   "execution_count": null,
   "id": "eligible-infrastructure",
   "metadata": {},
   "outputs": [],
   "source": [
    "# Combine the data into one geodataframe.\n",
    "all_data = gpd.GeoDataFrame(pd.merge(data, us_states.drop(columns=gdf_drop_cols),\n",
    "                                     left_on=\"state\", right_on='gn_a1_code')\n",
    "                           ).drop(columns=[\"state\", \"gn_a1_code\"])"
   ]
  },
  {
   "cell_type": "code",
   "execution_count": null,
   "id": "double-microphone",
   "metadata": {},
   "outputs": [],
   "source": [
    "# Add columns for the area and the centre of the geometry.\n",
    "all_data[\"area\"] = all_data.apply(lambda r: r[\"geometry\"].area, axis=1)\n",
    "# We do these two separately for the sake of simplicity.\n",
    "all_data[\"latitude\"] = all_data.apply(lambda r: r[\"geometry\"].centroid.y, axis=1, result_type=\"expand\")\n",
    "all_data[\"longitude\"] = all_data.apply(lambda r: r[\"geometry\"].centroid.x, axis=1, result_type=\"expand\")"
   ]
  },
  {
   "cell_type": "code",
   "execution_count": null,
   "id": "exotic-clarity",
   "metadata": {},
   "outputs": [],
   "source": [
    "# Normalisation functions.\n",
    "def _norm(v, vmin, vmax, dmin, dmax):\n",
    "    return ((v - vmin) / (vmax - vmin)) * (dmax - dmin) + dmin\n",
    "\n",
    "def quicknorm(v, vmin, vmax):\n",
    "    return _norm(v, vmin, vmax, dmin=0, dmax=1)\n",
    "\n",
    "def offsetnorm(v, vmin, vmax, dmin=10, dmax=50):\n",
    "    return _norm(v, vmin, vmax, dmin, dmax)"
   ]
  },
  {
   "cell_type": "code",
   "execution_count": null,
   "id": "cardiac-ensemble",
   "metadata": {},
   "outputs": [],
   "source": [
    "def synthetic_vuln_data(r):\n",
    "    \"\"\"\n",
    "    Generate synthetic vulnerability data for each state and year.\n",
    "    \n",
    "    Vulnerability is synthesized as the product of the state area (as a \n",
    "    bad proxy for total population), the year offset from 2000 (with years\n",
    "    prior to this date being normalised to 1) and a random factor between\n",
    "    0.8 and 1.2.\n",
    "    \n",
    "    The entire vulernability value is then normalised into the interval (10, 50).\n",
    "    \n",
    "    \"\"\"\n",
    "    yc = 2000\n",
    "    year = r[\"year\"]\n",
    "    if year > yc:\n",
    "        y_offset = year - yc\n",
    "        power_factor = 1\n",
    "    else:\n",
    "        y_offset = 1\n",
    "        power_factor = 0\n",
    "    \n",
    "    pop = r[\"area\"]\n",
    "    rnd_factor = np.random.randint(8000, 12000) / 10000\n",
    "    \n",
    "    vuln = (y_offset * pop * rnd_factor) ** power_factor\n",
    "    return offsetnorm(vuln, 1, 20000, 10, 50)\n",
    "\n",
    "# Add the synthetic vulnerability data to the geodataframe.\n",
    "all_data[\"vuln\"] = all_data.apply(synthetic_vuln_data, axis=1)"
   ]
  },
  {
   "cell_type": "code",
   "execution_count": null,
   "id": "presidential-softball",
   "metadata": {},
   "outputs": [],
   "source": [
    "class ClimateRiskInterface(param.Parameterized):\n",
    "    # Set params that add specific interactivity to the plot.\n",
    "    rcp = param.ObjectSelector(default=\"a1b\", objects=[\"a1b\", \"e1\"], label=\"RCP\")\n",
    "    anomaly_period = param.ObjectSelector(default=\"1971-2000\",\n",
    "                                          objects=[\"1971-2000\", \"1981-2010\", \"1991-2020\"])\n",
    "    year = param.Integer(default=2021, bounds=(1860, 2099))\n",
    "    show_temp = param.ObjectSelector(default=\"air temp\", objects=[\"air temp\", \"anomaly\"],\n",
    "                                     label=\"Temperature displayed\")\n",
    "    alpha = param.Number(default=0.4, bounds=(0.1, 0.9), label=\"Fill alpha\")\n",
    "    show_vuln = param.Boolean(default=False, label=\"Show risk\")\n",
    "    \n",
    "    # Set some defaults.\n",
    "    tmin = min(all_data[\"mean_temp\"]) - 2.5\n",
    "    tmax = max(all_data[\"mean_temp\"]) + 2.5\n",
    "    dmin, dmax = -7.5, 7.5\n",
    "    \n",
    "    def prepare_data(self, data):\n",
    "        \"\"\"Set up the data to show in the filled polygons.\"\"\"\n",
    "        if self.show_temp == \"anomaly\":\n",
    "            result = data[\"mean_temp\"] - data[self.anomaly_period]\n",
    "        else:\n",
    "            result = data[\"mean_temp\"]\n",
    "        return result\n",
    "        \n",
    "    def risk_data(self, data):\n",
    "        \"\"\"Calculate the size of the risk indicator points.\"\"\"\n",
    "        return data[\"vuln\"] * (data[\"mean_temp\"] - data[self.anomaly_period]) * 5\n",
    "\n",
    "    def choose_cmap(self):\n",
    "        \"\"\"\n",
    "        Allow a different colormap for showing absolute temperature data vs\n",
    "        anomaly data.\n",
    "        \n",
    "        \"\"\"\n",
    "        return cc.cm.CET_D9 if self.show_temp == \"anomaly\" else cc.cm.CET_L4\n",
    "\n",
    "    def choose_clim(self):\n",
    "        \"\"\"Allow different colorbar limits (clim) for absolute and anomaly maps.\"\"\"\n",
    "        return (self.dmin, self.dmax) if self.show_temp == \"anomaly\" else (self.tmin, self.tmax)\n",
    "    \n",
    "    @param.depends(\"rcp\", \"year\", \"anomaly_period\", \"show_vuln\", \"show_temp\", \"alpha\")\n",
    "    def plot(self):\n",
    "        \"\"\"Plot all the elements of the map.\"\"\"\n",
    "        data = all_data[(all_data[\"rcp\"] == self.rcp) & (all_data[\"year\"] == self.year)]\n",
    "        \n",
    "        # Plot mean / anomaly from climatic period temperature values as filled state polygons.\n",
    "        polyplot = data.hvplot.polygons(geo=True,\n",
    "                                        c=self.prepare_data(data),\n",
    "                                        hover_cols=[\"name\", \"mean_temp\", \"vuln\"]).opts(\n",
    "            toolbar=\"above\", clim=self.choose_clim(), alpha=self.alpha,\n",
    "            projection=ccrs.LambertConformal(),\n",
    "            cmap=self.choose_cmap(), colorbar=True)\n",
    "        \n",
    "        if self.show_vuln:\n",
    "            # Optionally also plot varying-size points to indicate risk in each state.\n",
    "            pointplot = data.hvplot.points(\"longitude\", \"latitude\", geo=True,\n",
    "                                           color=\"vuln\", size=self.risk_data(data),\n",
    "                                           hover_cols=\"name\").opts(\n",
    "                projection=ccrs.LambertConformal(), cmap=\"viridis\", clim=(5, 30))\n",
    "            result = (gf.coastline * polyplot * pointplot)\n",
    "        else:\n",
    "            result = (gf.coastline * polyplot)\n",
    "        \n",
    "        return result.opts(width=1200, height=800)"
   ]
  },
  {
   "cell_type": "code",
   "execution_count": null,
   "id": "verbal-amazon",
   "metadata": {},
   "outputs": [],
   "source": [
    "interface = ClimateRiskInterface()\n",
    "pn.Row(interface.param, interface.plot).servable()"
   ]
  },
  {
   "cell_type": "code",
   "execution_count": null,
   "id": "creative-trade",
   "metadata": {},
   "outputs": [],
   "source": []
  }
 ],
 "metadata": {
  "kernelspec": {
   "display_name": "Python 3",
   "language": "python",
   "name": "python3"
  },
  "language_info": {
   "codemirror_mode": {
    "name": "ipython",
    "version": 3
   },
   "file_extension": ".py",
   "mimetype": "text/x-python",
   "name": "python",
   "nbconvert_exporter": "python",
   "pygments_lexer": "ipython3",
   "version": "3.9.2"
  }
 },
 "nbformat": 4,
 "nbformat_minor": 5
}
