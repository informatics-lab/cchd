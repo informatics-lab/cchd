{
 "cells": [
  {
   "cell_type": "markdown",
   "id": "harmful-directory",
   "metadata": {},
   "source": [
    "# Pre-Process data\n",
    "\n",
    "A good way to speed up an interactive interface that has a known limited set of possible options and no dynamically-shifting input data is to simply pre-process the data to supply the required output. For this demo, we need to be able to show the following:\n",
    "\n",
    "* mean air temperature...\n",
    "  * for each US State,\n",
    "  * for each year (1860 - 2100)\n",
    "  * for each RCP scenario (A1B, E1)\n",
    "* climatic period mean (1971-2000, 1981-2010, 1991-2020)\n",
    "* anomaly from climatic mean period (calculated from `mean air temp[state][year] - climatic mean[state][period]`) (NOTE: not done! this is calcuated on-the-fly...)"
   ]
  },
  {
   "cell_type": "code",
   "execution_count": 1,
   "id": "commercial-egyptian",
   "metadata": {},
   "outputs": [],
   "source": [
    "import itertools\n",
    "import os\n",
    "\n",
    "import cartopy.io.shapereader as shpreader\n",
    "import dask.bag as db\n",
    "import iris\n",
    "import numpy as np\n",
    "import pandas as pd\n",
    "\n",
    "import ascend.shape as shape"
   ]
  },
  {
   "cell_type": "markdown",
   "id": "official-ottawa",
   "metadata": {},
   "source": [
    "## Functions"
   ]
  },
  {
   "cell_type": "code",
   "execution_count": 2,
   "id": "blessed-knife",
   "metadata": {},
   "outputs": [],
   "source": [
    "def _get_2d_field_and_dims(cube):\n",
    "    \"\"\"Get a 2D horizontal field, and the horizontal coord dims, from an nD cube.\"\"\"\n",
    "    cube_x_coord, = cube.coords(axis='X', dim_coords=True)\n",
    "    cube_y_coord, = cube.coords(axis='Y', dim_coords=True)\n",
    "    cube_x_coord_name = cube_x_coord.name()\n",
    "    cube_y_coord_name = cube_y_coord.name()\n",
    "    cube_x_coord_dim, = cube.coord_dims(cube_x_coord)\n",
    "    cube_y_coord_dim, = cube.coord_dims(cube_y_coord)\n",
    "    field_2d = cube.slices([cube_y_coord_name, cube_x_coord_name]).next()\n",
    "    coord_2d_dims = sorted([cube_y_coord_dim, cube_x_coord_dim])\n",
    "    return field_2d, coord_2d_dims\n",
    "    \n",
    "def cut_cube_to_shape(cube, shape_record):\n",
    "    \"\"\"\n",
    "    Subset the input cube to the boundary of the shapefile geometry.\n",
    "    This is a two-step process:\n",
    "      1. Cut the cube to the bounding box of the shapefile geoetry\n",
    "      2. Mask the cut cube from (1.) to the boundary of the shapefile\n",
    "         geometry.\n",
    "    \n",
    "    \"\"\"\n",
    "    # Set up the cube-to-shapefile cutter.\n",
    "    cutter = shape.Shape(shape_record.geometry, shape_record.attributes,\n",
    "                         cube.coord_system())\n",
    "\n",
    "    # 1. extract subcube to the shapefile's bounding box.\n",
    "    subcube = cutter.extract_subcube(cube)\n",
    "    \n",
    "    # 2. mask the subcube to the shapefile boundary.\n",
    "    try:\n",
    "        cube_2d, dims_2d = _get_2d_field_and_dims(subcube)\n",
    "        mask_2d = cutter.cube_intersection_mask(cube_2d)\n",
    "    except:\n",
    "        result = None\n",
    "    else:\n",
    "        full_mask = iris.util.broadcast_to_shape(mask_2d, subcube.shape, dims_2d)\n",
    "        new_data = np.ma.array(subcube.data, mask=np.logical_not(full_mask))\n",
    "        result = subcube.copy(data=new_data)\n",
    "\n",
    "    return result"
   ]
  },
  {
   "cell_type": "code",
   "execution_count": 3,
   "id": "alike-lover",
   "metadata": {},
   "outputs": [],
   "source": [
    "def calculate_one_mean(state_code, rcp, year):\n",
    "    \"\"\"\n",
    "    Calculate one mean value, for a specific combination of US state (defined by its state code),\n",
    "    RCP scenario and year.\n",
    "    \n",
    "    \"\"\"\n",
    "    cube = a1b_cube if rcp.lower() == \"a1b\" else e1_cube\n",
    "    cstr = iris.Constraint(time=lambda cell: cell.point.year == int(year))\n",
    "    year_cube = cube.extract(cstr)\n",
    "    rcd = states_dict[state_code]\n",
    "    state_year_cube = cut_cube_to_shape(year_cube, rcd)\n",
    "    if state_year_cube is not None:\n",
    "        collapsed_cube = state_year_cube.collapsed([\"latitude\", \"longitude\"], iris.analysis.MEAN)\n",
    "        result = float(collapsed_cube.data)\n",
    "    else:\n",
    "        result = None\n",
    "    return result"
   ]
  },
  {
   "cell_type": "code",
   "execution_count": 4,
   "id": "fewer-province",
   "metadata": {},
   "outputs": [],
   "source": [
    "def _get_state_cube(state_code, rcp):\n",
    "    cube = a1b_cube if rcp.lower() == \"a1b\" else e1_cube\n",
    "    rcd = states_dict[state_code]\n",
    "    return cut_cube_to_shape(cube, rcd)\n",
    "\n",
    "def calculate_year_means(state_code, rcp):\n",
    "    years_cube = _get_state_cube(state_code, rcp)\n",
    "    if years_cube is not None:\n",
    "        years_means_cube = years_cube.collapsed([\"latitude\", \"longitude\"], iris.analysis.MEAN)\n",
    "        result = list(years_means_cube.data)\n",
    "    else:\n",
    "        result = [None]\n",
    "    return result\n",
    "\n",
    "def calculate_climatic_period_mean(state_code, rcp, start_year, end_year):\n",
    "    years_cube = _get_state_cube(state_code, rcp)\n",
    "    if years_cube is not None:\n",
    "        cp_cstr = iris.Constraint(time=lambda cell: start_year <= cell.point.year <= end_year)\n",
    "        cp_cube = years_cube.extract(cp_cstr)\n",
    "        cp_mean = cp_cube.collapsed([c.name() for c in cp_cube.coords(dim_coords=True)],\n",
    "                                    iris.analysis.MEAN)\n",
    "        result = float(cp_mean.data)\n",
    "    else:\n",
    "        result = None\n",
    "    return result"
   ]
  },
  {
   "cell_type": "markdown",
   "id": "quiet-sleeve",
   "metadata": {},
   "source": [
    "## Static data"
   ]
  },
  {
   "cell_type": "code",
   "execution_count": 5,
   "id": "committed-hands",
   "metadata": {},
   "outputs": [],
   "source": [
    "rcp_strs = [\"a1b\", \"e1\"]"
   ]
  },
  {
   "cell_type": "code",
   "execution_count": 6,
   "id": "entitled-answer",
   "metadata": {},
   "outputs": [],
   "source": [
    "sample_data_dir = \"iris-sample-data/sample_data\"\n",
    "a1b_cube = iris.load_cube(os.path.join(sample_data_dir, \"a1b_north_america.nc\"))\n",
    "e1_cube = iris.load_cube(os.path.join(sample_data_dir, \"e1_north_america.nc\"))"
   ]
  },
  {
   "cell_type": "code",
   "execution_count": 7,
   "id": "indian-andrews",
   "metadata": {},
   "outputs": [
    {
     "name": "stdout",
     "output_type": "stream",
     "text": [
      "['1860', '1861', '1862', '1863', '1864', '1865', '1866', '1867', '1868', '1869']\n",
      "['rcp', 'year', 'mean_temp', '1971-2000', '1981-2010', '1991-2020']\n"
     ]
    }
   ],
   "source": [
    "cps = [\"1971-2000\", \"1981-2010\", \"1991-2020\"]\n",
    "years = [str(c.point.year) for c in a1b_cube.coord(\"time\").cells()]\n",
    "inds = [\"rcp\", \"year\", \"mean_temp\"] + cps\n",
    "print(years[:10])\n",
    "print(inds)"
   ]
  },
  {
   "cell_type": "code",
   "execution_count": 8,
   "id": "eleven-daughter",
   "metadata": {},
   "outputs": [],
   "source": [
    "us_states_name = shpreader.natural_earth(\n",
    "    category=\"cultural\",\n",
    "    name=\"admin_1_states_provinces\")\n",
    "\n",
    "us_states = shpreader.Reader(us_states_name)"
   ]
  },
  {
   "cell_type": "code",
   "execution_count": 9,
   "id": "occupational-change",
   "metadata": {},
   "outputs": [],
   "source": [
    "states_dict = {}\n",
    "for rcd in us_states.records():\n",
    "    state_code = rcd.attributes['gn_a1_code']\n",
    "    states_dict[state_code] = rcd"
   ]
  },
  {
   "cell_type": "markdown",
   "id": "designed-rings",
   "metadata": {},
   "source": [
    "## Pre-process the data"
   ]
  },
  {
   "cell_type": "code",
   "execution_count": 10,
   "id": "spatial-threat",
   "metadata": {},
   "outputs": [],
   "source": [
    "def build_row(state_code, rcp):\n",
    "    \"\"\"\n",
    "    Build one row in the dataframe:\n",
    "      * all years and climatic periods,\n",
    "      * for one US State and RCP scenario\n",
    "    \n",
    "    \"\"\"\n",
    "    climatic_periods = [[1971, 2000],\n",
    "                        [1981, 2010],\n",
    "                        [1991, 2020]]\n",
    "    year_means = calculate_year_means(state_code, rcp)\n",
    "    cps = [calculate_climatic_period_mean(state_code, rcp, *yrs) for yrs in climatic_periods]\n",
    "    vals = [rcp] + year_means + cps\n",
    "    return pd.Series(vals, name=state_code)\n",
    "\n",
    "def build_row_v2(state_code, rcp):\n",
    "    \"\"\"\n",
    "    Build one row in the dataframe:\n",
    "      * one year,\n",
    "      * all climatic periods,\n",
    "      * for one US State and RCP scenario\n",
    "    \n",
    "    \"\"\"\n",
    "    climatic_periods = [[1971, 2000],\n",
    "                        [1981, 2010],\n",
    "                        [1991, 2020]]\n",
    "    year_means = calculate_year_means(state_code, rcp)\n",
    "    cps = [calculate_climatic_period_mean(state_code, rcp, *yrs) for yrs in climatic_periods]\n",
    "    res = []\n",
    "    for (year, year_mean) in zip(years, year_means):\n",
    "        vals = [rcp, year, year_mean] + cps\n",
    "        res.append(pd.Series(vals, name=state_code))\n",
    "    return pd.concat([*res, pd.Series(inds, name=\"headings\")], axis=1).set_index(\"headings\").T\n",
    "\n",
    "def build_row_helper(args):\n",
    "    return build_row(*args)\n",
    "\n",
    "def build_row_v2_helper(args):\n",
    "    return build_row_v2(*args)"
   ]
  },
  {
   "cell_type": "code",
   "execution_count": 11,
   "id": "better-prime",
   "metadata": {},
   "outputs": [],
   "source": [
    "combs = db.from_sequence(itertools.product(states_dict, rcp_strs))"
   ]
  },
  {
   "cell_type": "code",
   "execution_count": 12,
   "id": "attached-heater",
   "metadata": {},
   "outputs": [],
   "source": [
    "combs_dfs = combs.map(build_row_v2_helper)"
   ]
  },
  {
   "cell_type": "code",
   "execution_count": 13,
   "id": "underlying-transparency",
   "metadata": {},
   "outputs": [],
   "source": [
    "import multiprocessing.popen_spawn_posix  # Timely fix for a dask ecosystem bug affecting MacOS.\n",
    "from distributed import Client, LocalCluster\n",
    "\n",
    "lc = LocalCluster(n_workers=16)\n",
    "Client = Client(lc)"
   ]
  },
  {
   "cell_type": "code",
   "execution_count": 14,
   "id": "awful-basket",
   "metadata": {},
   "outputs": [
    {
     "data": {
      "text/html": [
       "<div>\n",
       "<style scoped>\n",
       "    .dataframe tbody tr th:only-of-type {\n",
       "        vertical-align: middle;\n",
       "    }\n",
       "\n",
       "    .dataframe tbody tr th {\n",
       "        vertical-align: top;\n",
       "    }\n",
       "\n",
       "    .dataframe thead th {\n",
       "        text-align: right;\n",
       "    }\n",
       "</style>\n",
       "<table border=\"1\" class=\"dataframe\">\n",
       "  <thead>\n",
       "    <tr style=\"text-align: right;\">\n",
       "      <th>headings</th>\n",
       "      <th>rcp</th>\n",
       "      <th>year</th>\n",
       "      <th>mean_temp</th>\n",
       "      <th>1971-2000</th>\n",
       "      <th>1981-2010</th>\n",
       "      <th>1991-2020</th>\n",
       "    </tr>\n",
       "  </thead>\n",
       "  <tbody>\n",
       "    <tr>\n",
       "      <th>US.MN</th>\n",
       "      <td>a1b</td>\n",
       "      <td>1860</td>\n",
       "      <td>277.322421</td>\n",
       "      <td>277.950402</td>\n",
       "      <td>278.480256</td>\n",
       "      <td>278.89214</td>\n",
       "    </tr>\n",
       "    <tr>\n",
       "      <th>US.MN</th>\n",
       "      <td>a1b</td>\n",
       "      <td>1861</td>\n",
       "      <td>278.560991</td>\n",
       "      <td>277.950402</td>\n",
       "      <td>278.480256</td>\n",
       "      <td>278.89214</td>\n",
       "    </tr>\n",
       "    <tr>\n",
       "      <th>US.MN</th>\n",
       "      <td>a1b</td>\n",
       "      <td>1862</td>\n",
       "      <td>276.617432</td>\n",
       "      <td>277.950402</td>\n",
       "      <td>278.480256</td>\n",
       "      <td>278.89214</td>\n",
       "    </tr>\n",
       "    <tr>\n",
       "      <th>US.MN</th>\n",
       "      <td>a1b</td>\n",
       "      <td>1863</td>\n",
       "      <td>278.426536</td>\n",
       "      <td>277.950402</td>\n",
       "      <td>278.480256</td>\n",
       "      <td>278.89214</td>\n",
       "    </tr>\n",
       "    <tr>\n",
       "      <th>US.MN</th>\n",
       "      <td>a1b</td>\n",
       "      <td>1864</td>\n",
       "      <td>277.351407</td>\n",
       "      <td>277.950402</td>\n",
       "      <td>278.480256</td>\n",
       "      <td>278.89214</td>\n",
       "    </tr>\n",
       "    <tr>\n",
       "      <th>...</th>\n",
       "      <td>...</td>\n",
       "      <td>...</td>\n",
       "      <td>...</td>\n",
       "      <td>...</td>\n",
       "      <td>...</td>\n",
       "      <td>...</td>\n",
       "    </tr>\n",
       "    <tr>\n",
       "      <th>US.AK</th>\n",
       "      <td>e1</td>\n",
       "      <td>2095</td>\n",
       "      <td>276.888428</td>\n",
       "      <td>273.568916</td>\n",
       "      <td>273.78357</td>\n",
       "      <td>274.362571</td>\n",
       "    </tr>\n",
       "    <tr>\n",
       "      <th>US.AK</th>\n",
       "      <td>e1</td>\n",
       "      <td>2096</td>\n",
       "      <td>277.044988</td>\n",
       "      <td>273.568916</td>\n",
       "      <td>273.78357</td>\n",
       "      <td>274.362571</td>\n",
       "    </tr>\n",
       "    <tr>\n",
       "      <th>US.AK</th>\n",
       "      <td>e1</td>\n",
       "      <td>2097</td>\n",
       "      <td>277.478205</td>\n",
       "      <td>273.568916</td>\n",
       "      <td>273.78357</td>\n",
       "      <td>274.362571</td>\n",
       "    </tr>\n",
       "    <tr>\n",
       "      <th>US.AK</th>\n",
       "      <td>e1</td>\n",
       "      <td>2098</td>\n",
       "      <td>276.56756</td>\n",
       "      <td>273.568916</td>\n",
       "      <td>273.78357</td>\n",
       "      <td>274.362571</td>\n",
       "    </tr>\n",
       "    <tr>\n",
       "      <th>US.AK</th>\n",
       "      <td>e1</td>\n",
       "      <td>2099</td>\n",
       "      <td>276.385898</td>\n",
       "      <td>273.568916</td>\n",
       "      <td>273.78357</td>\n",
       "      <td>274.362571</td>\n",
       "    </tr>\n",
       "  </tbody>\n",
       "</table>\n",
       "<p>22568 rows × 6 columns</p>\n",
       "</div>"
      ],
      "text/plain": [
       "headings  rcp  year   mean_temp   1971-2000   1981-2010   1991-2020\n",
       "US.MN     a1b  1860  277.322421  277.950402  278.480256   278.89214\n",
       "US.MN     a1b  1861  278.560991  277.950402  278.480256   278.89214\n",
       "US.MN     a1b  1862  276.617432  277.950402  278.480256   278.89214\n",
       "US.MN     a1b  1863  278.426536  277.950402  278.480256   278.89214\n",
       "US.MN     a1b  1864  277.351407  277.950402  278.480256   278.89214\n",
       "...       ...   ...         ...         ...         ...         ...\n",
       "US.AK      e1  2095  276.888428  273.568916   273.78357  274.362571\n",
       "US.AK      e1  2096  277.044988  273.568916   273.78357  274.362571\n",
       "US.AK      e1  2097  277.478205  273.568916   273.78357  274.362571\n",
       "US.AK      e1  2098   276.56756  273.568916   273.78357  274.362571\n",
       "US.AK      e1  2099  276.385898  273.568916   273.78357  274.362571\n",
       "\n",
       "[22568 rows x 6 columns]"
      ]
     },
     "execution_count": 14,
     "metadata": {},
     "output_type": "execute_result"
    }
   ],
   "source": [
    "pre_preprocessed_data = pd.concat(combs_dfs)\n",
    "pre_preprocessed_data"
   ]
  },
  {
   "cell_type": "code",
   "execution_count": 15,
   "id": "outside-spread",
   "metadata": {},
   "outputs": [],
   "source": [
    "pre_preprocessed_data.to_csv(\"preprocessed_data_v2.csv\")"
   ]
  }
 ],
 "metadata": {
  "kernelspec": {
   "display_name": "Python 3",
   "language": "python",
   "name": "python3"
  },
  "language_info": {
   "codemirror_mode": {
    "name": "ipython",
    "version": 3
   },
   "file_extension": ".py",
   "mimetype": "text/x-python",
   "name": "python",
   "nbconvert_exporter": "python",
   "pygments_lexer": "ipython3",
   "version": "3.9.2"
  }
 },
 "nbformat": 4,
 "nbformat_minor": 5
}
