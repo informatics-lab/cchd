{
 "cells": [
  {
   "cell_type": "markdown",
   "id": "following-anchor",
   "metadata": {},
   "source": [
    "# Pre-Process data\n",
    "\n",
    "A good way to speed up an interactive interface that has a known limited set of possible options and no dynamically-shifting input data is to simply pre-process the data to supply the required output. For this demo, we need to be able to show the following:\n",
    "\n",
    "* mean air temperature...\n",
    "  * for each US State,\n",
    "  * for each year (1860 - 2100)\n",
    "  * for each RCP scenario (A1B, E1)\n",
    "* climatic period mean (1971-2000, 1981-2010, 1991-2020)\n",
    "* anomaly from climatic mean period (calculated from `mean air temp[state][year] - climatic mean[state][period]`) (NOTE: not done! this is calcuated on-the-fly...)"
   ]
  },
  {
   "cell_type": "code",
   "execution_count": null,
   "id": "alpha-scientist",
   "metadata": {},
   "outputs": [],
   "source": [
    "import itertools\n",
    "import os\n",
    "\n",
    "import cartopy.io.shapereader as shpreader\n",
    "import dask.bag as db\n",
    "import iris\n",
    "import numpy as np\n",
    "import pandas as pd\n",
    "\n",
    "import ascend.shape as shape"
   ]
  },
  {
   "cell_type": "markdown",
   "id": "elder-laptop",
   "metadata": {},
   "source": [
    "## Functions"
   ]
  },
  {
   "cell_type": "code",
   "execution_count": null,
   "id": "seven-bankruptcy",
   "metadata": {},
   "outputs": [],
   "source": [
    "def _get_2d_field_and_dims(cube):\n",
    "    \"\"\"Get a 2D horizontal field, and the horizontal coord dims, from an nD cube.\"\"\"\n",
    "    cube_x_coord, = cube.coords(axis='X', dim_coords=True)\n",
    "    cube_y_coord, = cube.coords(axis='Y', dim_coords=True)\n",
    "    cube_x_coord_name = cube_x_coord.name()\n",
    "    cube_y_coord_name = cube_y_coord.name()\n",
    "    cube_x_coord_dim, = cube.coord_dims(cube_x_coord)\n",
    "    cube_y_coord_dim, = cube.coord_dims(cube_y_coord)\n",
    "    field_2d = cube.slices([cube_y_coord_name, cube_x_coord_name]).next()\n",
    "    coord_2d_dims = sorted([cube_y_coord_dim, cube_x_coord_dim])\n",
    "    return field_2d, coord_2d_dims\n",
    "    \n",
    "def cut_cube_to_shape(cube, shape_record):\n",
    "    \"\"\"\n",
    "    Subset the input cube to the boundary of the shapefile geometry.\n",
    "    This is a two-step process:\n",
    "      1. Cut the cube to the bounding box of the shapefile geoetry\n",
    "      2. Mask the cut cube from (1.) to the boundary of the shapefile\n",
    "         geometry.\n",
    "    \n",
    "    \"\"\"\n",
    "    # Set up the cube-to-shapefile cutter.\n",
    "    cutter = shape.Shape(shape_record.geometry, shape_record.attributes,\n",
    "                         cube.coord_system())\n",
    "\n",
    "    # 1. extract subcube to the shapefile's bounding box.\n",
    "    subcube = cutter.extract_subcube(cube)\n",
    "    \n",
    "    # 2. mask the subcube to the shapefile boundary.\n",
    "    try:\n",
    "        cube_2d, dims_2d = _get_2d_field_and_dims(subcube)\n",
    "        mask_2d = cutter.cube_intersection_mask(cube_2d)\n",
    "    except:\n",
    "        result = None\n",
    "    else:\n",
    "        full_mask = iris.util.broadcast_to_shape(mask_2d, subcube.shape, dims_2d)\n",
    "        new_data = np.ma.array(subcube.data, mask=np.logical_not(full_mask))\n",
    "        result = subcube.copy(data=new_data)\n",
    "\n",
    "    return result"
   ]
  },
  {
   "cell_type": "code",
   "execution_count": null,
   "id": "executed-indicator",
   "metadata": {},
   "outputs": [],
   "source": [
    "def calculate_one_mean(state_code, rcp, year):\n",
    "    \"\"\"\n",
    "    Calculate one mean value, for a specific combination of US state (defined by its state code),\n",
    "    RCP scenario and year.\n",
    "    \n",
    "    \"\"\"\n",
    "    cube = a1b_cube if rcp.lower() == \"a1b\" else e1_cube\n",
    "    cstr = iris.Constraint(time=lambda cell: cell.point.year == int(year))\n",
    "    year_cube = cube.extract(cstr)\n",
    "    rcd = states_dict[state_code]\n",
    "    state_year_cube = cut_cube_to_shape(year_cube, rcd)\n",
    "    if state_year_cube is not None:\n",
    "        collapsed_cube = state_year_cube.collapsed([\"latitude\", \"longitude\"], iris.analysis.MEAN)\n",
    "        result = float(collapsed_cube.data)\n",
    "    else:\n",
    "        result = None\n",
    "    return result"
   ]
  },
  {
   "cell_type": "code",
   "execution_count": null,
   "id": "comparable-houston",
   "metadata": {},
   "outputs": [],
   "source": [
    "def _get_state_cube(state_code, rcp):\n",
    "    cube = a1b_cube if rcp.lower() == \"a1b\" else e1_cube\n",
    "    rcd = states_dict[state_code]\n",
    "    return cut_cube_to_shape(cube, rcd)\n",
    "\n",
    "def calculate_year_means(state_code, rcp):\n",
    "    years_cube = _get_state_cube(state_code, rcp)\n",
    "    if years_cube is not None:\n",
    "        years_means_cube = years_cube.collapsed([\"latitude\", \"longitude\"], iris.analysis.MEAN)\n",
    "        result = list(years_means_cube.data)\n",
    "    else:\n",
    "        result = [None]\n",
    "    return result\n",
    "\n",
    "def calculate_climatic_period_mean(state_code, rcp, start_year, end_year):\n",
    "    years_cube = _get_state_cube(state_code, rcp)\n",
    "    if years_cube is not None:\n",
    "        cp_cstr = iris.Constraint(time=lambda cell: start_year <= cell.point.year <= end_year)\n",
    "        cp_cube = years_cube.extract(cp_cstr)\n",
    "        cp_mean = cp_cube.collapsed([c.name() for c in cp_cube.coords(dim_coords=True)],\n",
    "                                    iris.analysis.MEAN)\n",
    "        result = float(cp_mean.data)\n",
    "    else:\n",
    "        result = None\n",
    "    return result"
   ]
  },
  {
   "cell_type": "markdown",
   "id": "trying-amendment",
   "metadata": {},
   "source": [
    "## Static data"
   ]
  },
  {
   "cell_type": "code",
   "execution_count": null,
   "id": "intimate-works",
   "metadata": {},
   "outputs": [],
   "source": [
    "rcp_strs = [\"a1b\", \"e1\"]"
   ]
  },
  {
   "cell_type": "code",
   "execution_count": null,
   "id": "aging-jungle",
   "metadata": {},
   "outputs": [],
   "source": [
    "sample_data_dir = \"iris-sample-data/sample_data\"\n",
    "a1b_cube = iris.load_cube(os.path.join(sample_data_dir, \"a1b_north_america.nc\"))\n",
    "e1_cube = iris.load_cube(os.path.join(sample_data_dir, \"e1_north_america.nc\"))"
   ]
  },
  {
   "cell_type": "code",
   "execution_count": null,
   "id": "stupid-survival",
   "metadata": {},
   "outputs": [],
   "source": [
    "cps = [\"1971-2000\", \"1981-2010\", \"1991-2020\"]\n",
    "years = [str(c.point.year) for c in a1b_cube.coord(\"time\").cells()]\n",
    "inds = [\"rcp\", \"year\", \"mean_temp\"] + cps\n",
    "print(years[:10])\n",
    "print(inds)"
   ]
  },
  {
   "cell_type": "code",
   "execution_count": null,
   "id": "liquid-nutrition",
   "metadata": {},
   "outputs": [],
   "source": [
    "us_states_name = shpreader.natural_earth(\n",
    "    category=\"cultural\",\n",
    "    name=\"admin_1_states_provinces\")\n",
    "\n",
    "us_states = shpreader.Reader(us_states_name)"
   ]
  },
  {
   "cell_type": "code",
   "execution_count": null,
   "id": "legal-sound",
   "metadata": {},
   "outputs": [],
   "source": [
    "states_dict = {}\n",
    "for rcd in us_states.records():\n",
    "    state_code = rcd.attributes['gn_a1_code']\n",
    "    states_dict[state_code] = rcd"
   ]
  },
  {
   "cell_type": "markdown",
   "id": "characteristic-brown",
   "metadata": {},
   "source": [
    "## Pre-process the data"
   ]
  },
  {
   "cell_type": "code",
   "execution_count": null,
   "id": "narrow-check",
   "metadata": {},
   "outputs": [],
   "source": [
    "def build_row(state_code, rcp):\n",
    "    \"\"\"\n",
    "    Build one row in the dataframe:\n",
    "      * all years and climatic periods,\n",
    "      * for one US State and RCP scenario\n",
    "    \n",
    "    \"\"\"\n",
    "    climatic_periods = [[1971, 2000],\n",
    "                        [1981, 2010],\n",
    "                        [1991, 2020]]\n",
    "    year_means = calculate_year_means(state_code, rcp)\n",
    "    cps = [calculate_climatic_period_mean(state_code, rcp, *yrs) for yrs in climatic_periods]\n",
    "    vals = [rcp] + year_means + cps\n",
    "    return pd.Series(vals, name=state_code)\n",
    "\n",
    "def build_row_v2(state_code, rcp):\n",
    "    \"\"\"\n",
    "    Build one row in the dataframe:\n",
    "      * one year,\n",
    "      * all climatic periods,\n",
    "      * for one US State and RCP scenario\n",
    "    \n",
    "    \"\"\"\n",
    "    climatic_periods = [[1971, 2000],\n",
    "                        [1981, 2010],\n",
    "                        [1991, 2020]]\n",
    "    year_means = calculate_year_means(state_code, rcp)\n",
    "    cps = [calculate_climatic_period_mean(state_code, rcp, *yrs) for yrs in climatic_periods]\n",
    "    res = []\n",
    "    for (year, year_mean) in zip(years, year_means):\n",
    "        vals = [rcp, year, year_mean] + cps\n",
    "        res.append(pd.Series(vals, name=state_code))\n",
    "    return pd.concat([*res, pd.Series(inds, name=\"headings\")], axis=1).set_index(\"headings\").T\n",
    "\n",
    "def build_row_helper(args):\n",
    "    return build_row(*args)\n",
    "\n",
    "def build_row_v2_helper(args):\n",
    "    return build_row_v2(*args)"
   ]
  },
  {
   "cell_type": "code",
   "execution_count": null,
   "id": "employed-liverpool",
   "metadata": {},
   "outputs": [],
   "source": [
    "combs = db.from_sequence(itertools.product(states_dict, rcp_strs))"
   ]
  },
  {
   "cell_type": "code",
   "execution_count": null,
   "id": "rental-german",
   "metadata": {},
   "outputs": [],
   "source": [
    "combs_dfs = combs.map(build_row_v2_helper)"
   ]
  },
  {
   "cell_type": "code",
   "execution_count": null,
   "id": "afraid-engagement",
   "metadata": {},
   "outputs": [],
   "source": [
    "import multiprocessing.popen_spawn_posix  # Timely fix for a dask ecosystem bug affecting MacOS.\n",
    "from distributed import Client, LocalCluster\n",
    "\n",
    "lc = LocalCluster(n_workers=16)\n",
    "Client = Client(lc)"
   ]
  },
  {
   "cell_type": "code",
   "execution_count": null,
   "id": "historical-container",
   "metadata": {},
   "outputs": [],
   "source": [
    "pre_preprocessed_data = pd.concat(combs_dfs)\n",
    "pre_preprocessed_data"
   ]
  },
  {
   "cell_type": "code",
   "execution_count": null,
   "id": "classified-france",
   "metadata": {},
   "outputs": [],
   "source": [
    "pre_preprocessed_data.to_csv(\"preprocessed_data_v2.csv\")"
   ]
  }
 ],
 "metadata": {
  "kernelspec": {
   "display_name": "Python 3",
   "language": "python",
   "name": "python3"
  },
  "language_info": {
   "codemirror_mode": {
    "name": "ipython",
    "version": 3
   },
   "file_extension": ".py",
   "mimetype": "text/x-python",
   "name": "python",
   "nbconvert_exporter": "python",
   "pygments_lexer": "ipython3",
   "version": "3.9.2"
  }
 },
 "nbformat": 4,
 "nbformat_minor": 5
}
