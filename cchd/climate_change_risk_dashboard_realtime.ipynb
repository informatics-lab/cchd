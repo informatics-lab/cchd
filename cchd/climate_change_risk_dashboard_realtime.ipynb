{
 "cells": [
  {
   "cell_type": "markdown",
   "id": "underlying-powder",
   "metadata": {},
   "source": [
    "# Climate Change Risk Dashboard (Realtime)\n",
    "\n",
    "This dashboard is an example of highlighting risks due to climate change. In this case we study the mainland US and explore risk as a function of global heating, over the period of 1860 - 2100, and comparing the climatic future scenarios A1B and E1.\n",
    "\n",
    "A measure of human vulnerability and risk is also synthesized and shown as points over the centres of each state. Vulnerability to the hazard (global heating) is shown by the brightness of the point, and the risk the hazard poses is shown by the size of the point.\n",
    "\n",
    "This version of the dashboard calculates statistics (in-state average temperature and risk metric; anomaly period means _are_ pre-calculated due to their constant nature) in realtime, rather than being fully reliant on pre-computed data to populate the dashboard."
   ]
  },
  {
   "cell_type": "code",
   "execution_count": null,
   "id": "catholic-proportion",
   "metadata": {},
   "outputs": [],
   "source": [
    "import os\n",
    "import warnings\n",
    "\n",
    "from bokeh.models import ColumnDataSource\n",
    "\n",
    "import cartopy.crs as ccrs\n",
    "import cartopy.io.shapereader as shpreader\n",
    "\n",
    "import colorcet as cc\n",
    "import geoviews.feature as gf\n",
    "import hvplot.pandas\n",
    "import panel as pn\n",
    "import param\n",
    "\n",
    "import iris\n",
    "\n",
    "import numpy as np\n",
    "\n",
    "import geopandas as gpd\n",
    "import pandas as pd\n",
    "\n",
    "import shapecutter"
   ]
  },
  {
   "cell_type": "code",
   "execution_count": null,
   "id": "heavy-signal",
   "metadata": {},
   "outputs": [],
   "source": [
    "pn.extension()"
   ]
  },
  {
   "cell_type": "markdown",
   "id": "continuous-alexander",
   "metadata": {},
   "source": [
    "## Load and pre-process shapefile data"
   ]
  },
  {
   "cell_type": "code",
   "execution_count": null,
   "id": "incorrect-password",
   "metadata": {
    "tags": []
   },
   "outputs": [],
   "source": [
    "# Load US states shapefile data.\n",
    "us_states_name = shpreader.natural_earth(\n",
    "    category=\"cultural\",\n",
    "    name=\"admin_1_states_provinces\")\n",
    "\n",
    "us_states = gpd.read_file(us_states_name)\n",
    "\n",
    "# We only need to keep a few columns of data from the US states geodataframe (gdf).\n",
    "gdf_drop_cols = list(set(us_states.columns) - set([\"name\", 'gn_a1_code', \"geometry\"]))\n",
    "\n",
    "us_states = us_states.drop(columns=gdf_drop_cols)"
   ]
  },
  {
   "cell_type": "code",
   "execution_count": null,
   "id": "agreed-nepal",
   "metadata": {},
   "outputs": [],
   "source": [
    "# Add columns for the area and the centre of the geometry.\n",
    "us_states[\"area\"] = us_states.apply(lambda r: r[\"geometry\"].area, axis=1)\n",
    "# We do these two separately for the sake of simplicity.\n",
    "us_states[\"latitude\"] = us_states.apply(lambda r: r[\"geometry\"].centroid.y, axis=1, result_type=\"expand\")\n",
    "us_states[\"longitude\"] = us_states.apply(lambda r: r[\"geometry\"].centroid.x, axis=1, result_type=\"expand\")"
   ]
  },
  {
   "cell_type": "markdown",
   "id": "accepted-flavor",
   "metadata": {},
   "source": [
    "## Climate data\n",
    "\n",
    "Load the climate data as Iris cubes and provide processing functions for this data."
   ]
  },
  {
   "cell_type": "code",
   "execution_count": null,
   "id": "smaller-twist",
   "metadata": {},
   "outputs": [],
   "source": [
    "a1b_cube = iris.load_cube(iris.sample_data_path(\"a1b_north_america.nc\"))\n",
    "e1_cube = iris.load_cube(iris.sample_data_path(\"e1_north_america.nc\"))"
   ]
  },
  {
   "cell_type": "code",
   "execution_count": null,
   "id": "bridal-bullet",
   "metadata": {},
   "outputs": [],
   "source": [
    "def calculate_one_mean(state_code, rcp, year):\n",
    "    \"\"\"\n",
    "    Calculate one mean value, for a specific combination of US state (defined by its state code),\n",
    "    RCP scenario and year.\n",
    "    \n",
    "    \"\"\"\n",
    "    cube = a1b_cube if rcp.lower() == \"a1b\" else e1_cube\n",
    "    cstr = iris.Constraint(time=lambda cell: cell.point.year == int(year))\n",
    "    year_cube = cube.extract(cstr)\n",
    "    geometry = us_states[us_states[\"gn_a1_code\"] == state_code][\"geometry\"]\n",
    "    state_year_cube = shapecutter.cut_cube_to_shape(year_cube, geometry)\n",
    "    if state_year_cube is not None:\n",
    "        collapsed_cube = state_year_cube.collapsed([\"latitude\", \"longitude\"], iris.analysis.MEAN)\n",
    "        result = float(collapsed_cube.data)\n",
    "    else:\n",
    "        result = None\n",
    "    return result"
   ]
  },
  {
   "cell_type": "markdown",
   "id": "varied-chapter",
   "metadata": {},
   "source": [
    "## Interactive and Realtime Plot\n",
    "\n",
    "Produce an interactive plot that calculates mean temperatures within states for a selected year and RCP scenario in an on-demand fashion.\n",
    "\n",
    "### Basic Interface\n",
    "\n",
    "This interface works (🎉) but it's a bit clunky - notably casting the polygons into a holoviews Pane loses the extent that's otherwise set tight to the limits of the polygons being plotted. Also we are not able to show coastlines on this interface, due to type inconsistencies between the coastlines feature and the holoviews Pane, again.\n",
    "\n",
    "**Note:** commented out so that running the notebook as a Panel app isn't slowed down by this cell executing before the servable app below gets executed."
   ]
  },
  {
   "cell_type": "code",
   "execution_count": null,
   "id": "present-potential",
   "metadata": {},
   "outputs": [],
   "source": [
    "# rcp = pn.widgets.Select(value=\"a1b\", options=[\"a1b\", \"e1\"], name=\"RCP\")\n",
    "# year = pn.widgets.IntSlider(value=2021, start=1860, end=2099, step=1, name=\"Year\")\n",
    "# button = pn.widgets.Button(name=\"Update\", button_type=\"primary\")\n",
    "\n",
    "# def plot(cdim=\"none\"):\n",
    "#     return us_states.hvplot.polygons(geo=True,\n",
    "#                                      c=cdim).opts(\n",
    "#             toolbar=\"above\", clim=(255, 310),\n",
    "#             projection=ccrs.LambertConformal(),\n",
    "#             cmap=cc.cm.CET_L4, colorbar=True)\n",
    "\n",
    "# def _update(new_ind, rcp, year):\n",
    "#     if new_ind not in us_states.columns:\n",
    "#         with warnings.catch_warnings():\n",
    "#             warnings.simplefilter(\"ignore\")\n",
    "#             us_states[new_ind] = us_states.apply(\n",
    "#                 lambda r: calculate_one_mean(r[\"gn_a1_code\"], rcp, year),\n",
    "#                 axis=1)\n",
    "\n",
    "# default = f\"({rcp.value},{year.value})\"\n",
    "# _update(default, rcp.value, year.value)\n",
    "# gv_pane = pn.pane.HoloViews(plot(default))\n",
    "\n",
    "# def update(event):\n",
    "#     new_ind = f\"({rcp.value},{year.value})\"\n",
    "#     with pn.param.set_values(gv_pane, loading=True):\n",
    "#         _update(new_ind, rcp.value, year.value)\n",
    "#         gv_pane.object = plot(cdim=new_ind)\n",
    "\n",
    "# button.on_click(update)\n",
    "\n",
    "# pn.Row(pn.Column(rcp, year, button), gv_pane)"
   ]
  },
  {
   "cell_type": "markdown",
   "id": "driven-disclaimer",
   "metadata": {},
   "source": [
    "## Full interface\n",
    "\n",
    "This takes the `ClimateRiskInterface` from the non-realtime dashboard, strips out extra calculations such as risk calculation, and adds a simple method that calculates mean temperature within a state for a given year and RCP in realtime. We wrap the plot in a `pn.panel` call so that we can put a spinning-wheel loading indicator over the plot while the calculations run in realtime, and so that the interface does not lock up while the calculations execute.\n",
    "\n",
    "Note that by adding calculated values to the geodataframe `us_states`, we can also use this as a simple cache to avoid recalculating results that have already been calculated."
   ]
  },
  {
   "cell_type": "code",
   "execution_count": null,
   "id": "molecular-detective",
   "metadata": {},
   "outputs": [],
   "source": [
    "class ClimateRiskInterfaceRT(param.Parameterized):\n",
    "    # Set params that add specific interactivity to the plot.\n",
    "    rcp = param.ObjectSelector(default=\"a1b\", objects=[\"a1b\", \"e1\"], label=\"RCP\")\n",
    "    year = param.Integer(default=2021, bounds=(1860, 2099))\n",
    "    \n",
    "    # Set some defaults.\n",
    "    tmin, tmax = 255, 310\n",
    "    \n",
    "    def _update(self, new_ind):\n",
    "        if new_ind not in us_states.columns:\n",
    "            with warnings.catch_warnings():  # Explicitly silence Iris collapse warnings.\n",
    "                warnings.simplefilter(\"ignore\")\n",
    "                us_states[new_ind] = us_states.apply(\n",
    "                    lambda r: calculate_one_mean(r[\"gn_a1_code\"], self.rcp, self.year),\n",
    "                    axis=1)\n",
    "    \n",
    "    def prepare_data(self, col_ref):\n",
    "        \"\"\"Set up the data to show in the filled polygons.\"\"\"\n",
    "        self._update(col_ref)\n",
    "        return us_states[col_ref]\n",
    "    \n",
    "    @param.depends(\"rcp\", \"year\")\n",
    "    def plot(self):\n",
    "        \"\"\"Plot all the elements of the map.\"\"\"\n",
    "        col_ref = f\"({self.rcp},{self.year})\"\n",
    "        polyplot = us_states.hvplot.polygons(geo=True,\n",
    "                                        c=self.prepare_data(col_ref),\n",
    "                                        hover_cols=[\"name\", col_ref]).opts(\n",
    "            toolbar=\"above\", clim=(self.tmin, self.tmax),\n",
    "            projection=ccrs.LambertConformal(),\n",
    "            cmap=cc.cm.CET_L4, colorbar=True)\n",
    "            \n",
    "        result = (gf.coastline * polyplot)\n",
    "        return result.opts(width=1200, height=800)"
   ]
  },
  {
   "cell_type": "code",
   "execution_count": null,
   "id": "medium-separation",
   "metadata": {},
   "outputs": [],
   "source": [
    "interface = ClimateRiskInterfaceRT()\n",
    "\n",
    "# button = pn.widgets.Button(name=\"Update\", button_type=\"primary\")\n",
    "# button.on_click(interface.update)\n",
    "\n",
    "pn.Row(interface.param, pn.panel(interface.plot, loading_indicator=True)).servable()"
   ]
  }
 ],
 "metadata": {
  "kernelspec": {
   "display_name": "Python 3",
   "language": "python",
   "name": "python3"
  },
  "language_info": {
   "codemirror_mode": {
    "name": "ipython",
    "version": 3
   },
   "file_extension": ".py",
   "mimetype": "text/x-python",
   "name": "python",
   "nbconvert_exporter": "python",
   "pygments_lexer": "ipython3",
   "version": "3.9.2"
  }
 },
 "nbformat": 4,
 "nbformat_minor": 5
}
