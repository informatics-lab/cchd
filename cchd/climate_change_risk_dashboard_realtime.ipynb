{
 "cells": [
  {
   "cell_type": "markdown",
   "id": "average-firmware",
   "metadata": {},
   "source": [
    "# Climate Change Risk Dashboard \n",
    "#### Realtime, processing in external module\n",
    "\n",
    "This dashboard is an example of highlighting risks due to climate change. In this case we study the mainland US and explore risk as a function of global heating, over the period of 1860 - 2100, and comparing the climatic future scenarios A1B and E1.\n",
    "\n",
    "This version of the dashboard calculates statistics (specifically in-state average temperature) in realtime, rather than being fully reliant on pre-computed data to populate the dashboard."
   ]
  },
  {
   "cell_type": "code",
   "execution_count": null,
   "id": "southern-motel",
   "metadata": {},
   "outputs": [],
   "source": [
    "import cartopy.crs as ccrs\n",
    "\n",
    "from distributed import Client, LocalCluster\n",
    "\n",
    "import colorcet as cc\n",
    "import geoviews.feature as gf\n",
    "import hvplot.pandas\n",
    "import panel as pn\n",
    "import param\n",
    "\n",
    "from processing import DataHolder"
   ]
  },
  {
   "cell_type": "code",
   "execution_count": null,
   "id": "specialized-setup",
   "metadata": {},
   "outputs": [],
   "source": [
    "pn.extension()"
   ]
  },
  {
   "cell_type": "markdown",
   "id": "engaged-reconstruction",
   "metadata": {},
   "source": [
    "## Load all data"
   ]
  },
  {
   "cell_type": "code",
   "execution_count": null,
   "id": "heard-denial",
   "metadata": {},
   "outputs": [],
   "source": [
    "processor = DataHolder()\n",
    "state_codes = processor.state_codes"
   ]
  },
  {
   "cell_type": "markdown",
   "id": "velvet-passing",
   "metadata": {},
   "source": [
    "## Interactive and Realtime Plot\n",
    "\n",
    "Produce an interactive plot that calculates mean temperatures within states for a selected year and RCP scenario in an on-demand fashion."
   ]
  },
  {
   "cell_type": "markdown",
   "id": "banned-jefferson",
   "metadata": {},
   "source": [
    "### Full interface\n",
    "\n",
    "This takes the `ClimateRiskInterface` from the non-realtime dashboard, strips out extra calculations such as risk calculation, and adds a simple method that calculates mean temperature within a state for a given year and RCP in realtime. We wrap the plot in a `pn.panel` call so that we can put a spinning-wheel loading indicator over the plot while the calculations run in realtime, and so that the interface does not lock up while the calculations execute.\n",
    "\n",
    "Note that by adding calculated values to the geodataframe `us_states`, we can also use this as a simple cache to avoid recalculating results that have already been calculated."
   ]
  },
  {
   "cell_type": "code",
   "execution_count": null,
   "id": "attempted-width",
   "metadata": {},
   "outputs": [],
   "source": [
    "# Create a local dask distributed cluster for processing statistics in realtime.\n",
    "\n",
    "# Important: multiple threads cause distributed processing to lock up.\n",
    "lc = LocalCluster(n_workers=8, threads_per_worker=1)\n",
    "c = Client(lc)\n",
    "c"
   ]
  },
  {
   "cell_type": "code",
   "execution_count": null,
   "id": "creative-tokyo",
   "metadata": {},
   "outputs": [],
   "source": [
    "class ClimateRiskInterfaceRT(param.Parameterized):\n",
    "    # Set params that add specific interactivity to the plot.\n",
    "    rcp = param.ObjectSelector(default=\"a1b\", objects=[\"a1b\", \"e1\"], label=\"RCP\")\n",
    "    year = param.Integer(default=2021, bounds=(1860, 2099))\n",
    "    \n",
    "    # Set some defaults.\n",
    "    tmin, tmax = 255, 308\n",
    "\n",
    "    def prepare_data(self, col_ref):\n",
    "        processor.calculate_one_column(col_ref)\n",
    "        return processor.us_states[col_ref]\n",
    "    \n",
    "    @param.depends(\"rcp\", \"year\")\n",
    "    def plot(self):\n",
    "        \"\"\"Plot all the elements of the map.\"\"\"\n",
    "        col_ref = f\"{self.rcp},{self.year}\"\n",
    "        polyplot = processor.us_states.hvplot.polygons(geo=True,\n",
    "                                                       c=self.prepare_data(col_ref),\n",
    "                                                       hover_cols=[\"name\"]).opts(\n",
    "            toolbar=\"above\", clim=(self.tmin, self.tmax),\n",
    "            projection=ccrs.LambertConformal(),\n",
    "            cmap=cc.cm.CET_L4, colorbar=True)\n",
    "            \n",
    "        result = (gf.coastline * polyplot)\n",
    "        return result.opts(width=1200, height=800)"
   ]
  },
  {
   "cell_type": "code",
   "execution_count": null,
   "id": "official-toddler",
   "metadata": {},
   "outputs": [],
   "source": [
    "interface = ClimateRiskInterfaceRT()\n",
    "pn.Row(interface.param, pn.panel(interface.plot, loading_indicator=True)).servable()"
   ]
  },
  {
   "cell_type": "code",
   "execution_count": null,
   "id": "super-character",
   "metadata": {},
   "outputs": [],
   "source": []
  }
 ],
 "metadata": {
  "kernelspec": {
   "display_name": "Python 3",
   "language": "python",
   "name": "python3"
  },
  "language_info": {
   "codemirror_mode": {
    "name": "ipython",
    "version": 3
   },
   "file_extension": ".py",
   "mimetype": "text/x-python",
   "name": "python",
   "nbconvert_exporter": "python",
   "pygments_lexer": "ipython3",
   "version": "3.9.2"
  }
 },
 "nbformat": 4,
 "nbformat_minor": 5
}
